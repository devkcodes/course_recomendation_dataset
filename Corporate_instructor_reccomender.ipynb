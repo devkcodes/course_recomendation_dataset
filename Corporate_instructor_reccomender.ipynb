{
  "nbformat": 4,
  "nbformat_minor": 0,
  "metadata": {
    "colab": {
      "name": "Corporate_instructor_reccomender.ipynb",
      "provenance": [],
      "collapsed_sections": []
    },
    "kernelspec": {
      "display_name": "Python 3",
      "name": "python3"
    },
    "language_info": {
      "name": "python"
    }
  },
  "cells": [
    {
      "cell_type": "code",
      "metadata": {
        "colab": {
          "background_save": true,
          "base_uri": "https://localhost:8080/"
        },
        "id": "HAlkPTkWkAgK",
        "outputId": "cd54bbfb-f45b-41fe-80ca-395a13feda34"
      },
      "source": [
        "!pip install lenskit\n",
        "\n",
        "import lenskit.datasets as ds\n",
        "import pandas as pd\n",
        "\n",
        "!git clone https://github.com/devkcodes/course_recomendation_dataset.git\n",
        "\n",
        "data = ds.MovieLens('course_recomendation_dataset/')\n",
        "\n",
        "print(\"dataset loaded\")"
      ],
      "execution_count": null,
      "outputs": [
        {
          "name": "stdout",
          "output_type": "stream",
          "text": [
            "Requirement already satisfied: lenskit in /usr/local/lib/python3.7/dist-packages (0.13.1)\n",
            "Requirement already satisfied: scipy>=1.2 in /usr/local/lib/python3.7/dist-packages (from lenskit) (1.4.1)\n",
            "Requirement already satisfied: binpickle>=0.3.2 in /usr/local/lib/python3.7/dist-packages (from lenskit) (0.3.4)\n",
            "Requirement already satisfied: numpy>=1.17 in /usr/local/lib/python3.7/dist-packages (from lenskit) (1.19.5)\n",
            "Requirement already satisfied: pandas>=0.24 in /usr/local/lib/python3.7/dist-packages (from lenskit) (1.1.5)\n",
            "Requirement already satisfied: numba<0.54,>=0.51 in /usr/local/lib/python3.7/dist-packages (from lenskit) (0.51.2)\n",
            "Requirement already satisfied: csr>=0.3.1 in /usr/local/lib/python3.7/dist-packages (from lenskit) (0.4.0)\n",
            "Requirement already satisfied: pyarrow>=0.15 in /usr/local/lib/python3.7/dist-packages (from lenskit) (3.0.0)\n",
            "Requirement already satisfied: psutil>=5 in /usr/local/lib/python3.7/dist-packages (from lenskit) (5.4.8)\n",
            "Requirement already satisfied: cffi>=1.12.2 in /usr/local/lib/python3.7/dist-packages (from lenskit) (1.14.6)\n",
            "Requirement already satisfied: seedbank>=0.1.0 in /usr/local/lib/python3.7/dist-packages (from lenskit) (0.1.0)\n",
            "Requirement already satisfied: pickle5 in /usr/local/lib/python3.7/dist-packages (from binpickle>=0.3.2->lenskit) (0.0.11)\n",
            "Requirement already satisfied: msgpack>=1.0 in /usr/local/lib/python3.7/dist-packages (from binpickle>=0.3.2->lenskit) (1.0.2)\n",
            "Requirement already satisfied: pycparser in /usr/local/lib/python3.7/dist-packages (from cffi>=1.12.2->lenskit) (2.20)\n",
            "Requirement already satisfied: llvmlite<0.35,>=0.34.0.dev0 in /usr/local/lib/python3.7/dist-packages (from numba<0.54,>=0.51->lenskit) (0.34.0)\n",
            "Requirement already satisfied: setuptools in /usr/local/lib/python3.7/dist-packages (from numba<0.54,>=0.51->lenskit) (57.4.0)\n",
            "Requirement already satisfied: pytz>=2017.2 in /usr/local/lib/python3.7/dist-packages (from pandas>=0.24->lenskit) (2018.9)\n",
            "Requirement already satisfied: python-dateutil>=2.7.3 in /usr/local/lib/python3.7/dist-packages (from pandas>=0.24->lenskit) (2.8.2)\n",
            "Requirement already satisfied: six>=1.5 in /usr/local/lib/python3.7/dist-packages (from python-dateutil>=2.7.3->pandas>=0.24->lenskit) (1.15.0)\n",
            "fatal: destination path 'course_recomendation_dataset' already exists and is not an empty directory.\n",
            "dataset loaded\n"
          ]
        }
      ]
    },
    {
      "cell_type": "code",
      "metadata": {
        "colab": {
          "base_uri": "https://localhost:8080/",
          "height": 220
        },
        "id": "MNSNRT2EkjYV",
        "outputId": "1c15503f-79a0-44ab-fa5e-5fad85e54a92"
      },
      "source": [
        "print('table-check')\n",
        "rows_to_show = 5  \n",
        "\n",
        "data.ratings.head(rows_to_show)"
      ],
      "execution_count": null,
      "outputs": [
        {
          "name": "stdout",
          "output_type": "stream",
          "text": [
            "table-check\n"
          ]
        },
        {
          "data": {
            "text/html": [
              "<div>\n",
              "<style scoped>\n",
              "    .dataframe tbody tr th:only-of-type {\n",
              "        vertical-align: middle;\n",
              "    }\n",
              "\n",
              "    .dataframe tbody tr th {\n",
              "        vertical-align: top;\n",
              "    }\n",
              "\n",
              "    .dataframe thead th {\n",
              "        text-align: right;\n",
              "    }\n",
              "</style>\n",
              "<table border=\"1\" class=\"dataframe\">\n",
              "  <thead>\n",
              "    <tr style=\"text-align: right;\">\n",
              "      <th></th>\n",
              "      <th>user</th>\n",
              "      <th>item</th>\n",
              "      <th>rating</th>\n",
              "      <th>timestamp</th>\n",
              "    </tr>\n",
              "  </thead>\n",
              "  <tbody>\n",
              "    <tr>\n",
              "      <th>0</th>\n",
              "      <td>1</td>\n",
              "      <td>1</td>\n",
              "      <td>4.0</td>\n",
              "      <td>964982703</td>\n",
              "    </tr>\n",
              "    <tr>\n",
              "      <th>1</th>\n",
              "      <td>1</td>\n",
              "      <td>3</td>\n",
              "      <td>4.0</td>\n",
              "      <td>964981247</td>\n",
              "    </tr>\n",
              "    <tr>\n",
              "      <th>2</th>\n",
              "      <td>1</td>\n",
              "      <td>6</td>\n",
              "      <td>4.0</td>\n",
              "      <td>964982224</td>\n",
              "    </tr>\n",
              "    <tr>\n",
              "      <th>3</th>\n",
              "      <td>1</td>\n",
              "      <td>47</td>\n",
              "      <td>5.0</td>\n",
              "      <td>964983815</td>\n",
              "    </tr>\n",
              "    <tr>\n",
              "      <th>4</th>\n",
              "      <td>1</td>\n",
              "      <td>50</td>\n",
              "      <td>5.0</td>\n",
              "      <td>964982931</td>\n",
              "    </tr>\n",
              "  </tbody>\n",
              "</table>\n",
              "</div>"
            ],
            "text/plain": [
              "   user  item  rating  timestamp\n",
              "0     1     1     4.0  964982703\n",
              "1     1     3     4.0  964981247\n",
              "2     1     6     4.0  964982224\n",
              "3     1    47     5.0  964983815\n",
              "4     1    50     5.0  964982931"
            ]
          },
          "execution_count": 2,
          "metadata": {},
          "output_type": "execute_result"
        }
      ]
    },
    {
      "cell_type": "code",
      "metadata": {
        "id": "cjRTYXztksCI"
      },
      "source": [
        "joined_data = data.ratings.join(data.movies['genres'], on='item')\n",
        "joined_data = joined_data.join(data.movies['title'], on='item')\n",
        "joined_data.head(rows_to_show)\n"
      ],
      "execution_count": null,
      "outputs": []
    },
    {
      "cell_type": "code",
      "metadata": {
        "colab": {
          "base_uri": "https://localhost:8080/",
          "height": 250
        },
        "id": "9h-h2-Fnkwsl",
        "outputId": "698416b9-4273-4fb7-dd3b-9db00bac8f15"
      },
      "source": [
        "minimum_to_include = 20 #<-- You can try changing this minimum to include movies rated by fewer or more people\n",
        "\n",
        "average_ratings = (data.ratings).groupby(['item']).mean()\n",
        "rating_counts = (data.ratings).groupby(['item']).count()\n",
        "average_ratings = average_ratings.loc[rating_counts['rating'] > minimum_to_include]\n",
        "sorted_avg_ratings = average_ratings.sort_values(by=\"rating\", ascending=False)\n",
        "joined_data = sorted_avg_ratings.join(data.movies['genres'], on='item')\n",
        "joined_data = joined_data.join(data.movies['title'], on='item')\n",
        "joined_data = joined_data[joined_data.columns[3:]]\n",
        "\n",
        "not_enough_data=joined_data\n",
        "\n",
        "print(\"RECOMMENDED FOR ANYBODY:\")\n",
        "joined_data.head(rows_to_show)"
      ],
      "execution_count": null,
      "outputs": [
        {
          "name": "stdout",
          "output_type": "stream",
          "text": [
            "RECOMMENDED FOR ANYBODY:\n"
          ]
        },
        {
          "data": {
            "text/html": [
              "<div>\n",
              "<style scoped>\n",
              "    .dataframe tbody tr th:only-of-type {\n",
              "        vertical-align: middle;\n",
              "    }\n",
              "\n",
              "    .dataframe tbody tr th {\n",
              "        vertical-align: top;\n",
              "    }\n",
              "\n",
              "    .dataframe thead th {\n",
              "        text-align: right;\n",
              "    }\n",
              "</style>\n",
              "<table border=\"1\" class=\"dataframe\">\n",
              "  <thead>\n",
              "    <tr style=\"text-align: right;\">\n",
              "      <th></th>\n",
              "      <th>genres</th>\n",
              "      <th>title</th>\n",
              "    </tr>\n",
              "    <tr>\n",
              "      <th>item</th>\n",
              "      <th></th>\n",
              "      <th></th>\n",
              "    </tr>\n",
              "  </thead>\n",
              "  <tbody>\n",
              "    <tr>\n",
              "      <th>318</th>\n",
              "      <td>Crime|Drama</td>\n",
              "      <td>Shawshank Redemption, The (1994)</td>\n",
              "    </tr>\n",
              "    <tr>\n",
              "      <th>922</th>\n",
              "      <td>Drama|Film-Noir|Romance</td>\n",
              "      <td>Sunset Blvd. (a.k.a. Sunset Boulevard) (1950)</td>\n",
              "    </tr>\n",
              "    <tr>\n",
              "      <th>898</th>\n",
              "      <td>Comedy|Drama|Romance</td>\n",
              "      <td>Philadelphia Story, The (1940)</td>\n",
              "    </tr>\n",
              "    <tr>\n",
              "      <th>475</th>\n",
              "      <td>Drama</td>\n",
              "      <td>In the Name of the Father (1993)</td>\n",
              "    </tr>\n",
              "    <tr>\n",
              "      <th>1204</th>\n",
              "      <td>Adventure|Drama|War</td>\n",
              "      <td>Lawrence of Arabia (1962)</td>\n",
              "    </tr>\n",
              "  </tbody>\n",
              "</table>\n",
              "</div>"
            ],
            "text/plain": [
              "                       genres                                          title\n",
              "item                                                                        \n",
              "318               Crime|Drama               Shawshank Redemption, The (1994)\n",
              "922   Drama|Film-Noir|Romance  Sunset Blvd. (a.k.a. Sunset Boulevard) (1950)\n",
              "898      Comedy|Drama|Romance                 Philadelphia Story, The (1940)\n",
              "475                     Drama               In the Name of the Father (1993)\n",
              "1204      Adventure|Drama|War                      Lawrence of Arabia (1962)"
            ]
          },
          "execution_count": 29,
          "metadata": {},
          "output_type": "execute_result"
        }
      ]
    },
    {
      "cell_type": "code",
      "metadata": {
        "colab": {
          "base_uri": "https://localhost:8080/"
        },
        "id": "_gDaqv4olR8i",
        "outputId": "8e226773-485b-4243-c631-a1c15921ba0c"
      },
      "source": [
        "import csv\n",
        "\n",
        "devansh_rating_dict = {}\n",
        "dhruv_rating_dict = {}\n",
        "check3_rating_dict={}\n",
        "\n",
        "with open(\"/content/course_recomendation_dataset/devansh-movie-ratings.csv\", newline='') as csvfile:\n",
        "  ratings_reader = csv.DictReader(csvfile)\n",
        "  for row in ratings_reader:\n",
        "    if ((row['ratings'] != \"\") and (float(row['ratings']) > 0) and (float(row['ratings']) < 6)):\n",
        "      devansh_rating_dict.update({int(row['item']): float(row['ratings'])})\n",
        "      \n",
        "with open(\"/content/course_recomendation_dataset/dhruv-movie-ratings.csv\", newline='') as csvfile:\n",
        "  ratings_reader = csv.DictReader(csvfile)\n",
        "  for row in ratings_reader:\n",
        "    if ((row['ratings'] != \"\") and (float(row['ratings']) > 0) and (float(row['ratings']) < 6)):\n",
        "      dhruv_rating_dict.update({int(row['item']): float(row['ratings'])})\n",
        "\n",
        "      \n",
        "with open(\"/content/course_recomendation_dataset/check3-movie-ratings.csv\", newline='') as csvfile:\n",
        "  ratings_reader = csv.DictReader(csvfile)\n",
        "  for row in ratings_reader:\n",
        "    if ((row['ratings'] != \"\") and (float(row['ratings']) > 0) and (float(row['ratings']) < 6)):\n",
        "      check3_rating_dict.update({int(row['item']): float(row['ratings'])})\n",
        "     \n",
        "print(\"Rating dictionaries assembled!\")\n",
        "print(\"Sanity check:\")\n",
        "print(\"\\tdevansh's rating for 1197 (The Princess Bride) is \" + str(devansh_rating_dict[1197]))\n",
        "print(\"\\tdhruv's rating for 1197 (The Princess Bride) is \" + str(dhruv_rating_dict[1197]))\n",
        "print(\"\\tcheck3's rating for 1197 (The Princess Bride) is \" + str(check3_rating_dict[141]))\n",
        "\n",
        "print(ratings_reader)"
      ],
      "execution_count": null,
      "outputs": [
        {
          "name": "stdout",
          "output_type": "stream",
          "text": [
            "Rating dictionaries assembled!\n",
            "Sanity check:\n",
            "\tdevansh's rating for 1197 (The Princess Bride) is 4.5\n",
            "\tdhruv's rating for 1197 (The Princess Bride) is 3.5\n",
            "\tcheck3's rating for 1197 (The Princess Bride) is 5.0\n",
            "<csv.DictReader object at 0x7f3948893bd0>\n"
          ]
        }
      ]
    },
    {
      "cell_type": "code",
      "metadata": {
        "colab": {
          "base_uri": "https://localhost:8080/"
        },
        "id": "mrrCfOVGmQRv",
        "outputId": "918d62a0-1cef-4b1a-8c0c-c682ca492612"
      },
      "source": [
        "from lenskit.algorithms import Recommender\n",
        "from lenskit.algorithms.user_knn import UserUser\n",
        "\n",
        "num_recs = 10\n",
        "\n",
        "user_user = UserUser(15, min_nbrs=3)\n",
        "algo = Recommender.adapt(user_user)\n",
        "algo.fit(data.ratings)\n",
        "\n",
        "print(\"Set up User-User\")"
      ],
      "execution_count": null,
      "outputs": [
        {
          "name": "stderr",
          "output_type": "stream",
          "text": [
            "/usr/local/lib/python3.7/dist-packages/numba/np/ufunc/parallel.py:363: NumbaWarning: The TBB threading layer requires TBB version 2019.5 or later i.e., TBB_INTERFACE_VERSION >= 11005. Found TBB_INTERFACE_VERSION = 9107. The TBB threading layer is disabled.\n",
            "  warnings.warn(problem)\n",
            "Numba is using threading layer omp - consider TBB\n",
            "BLAS using multiple threads - can cause oversubscription\n",
            "found 2 potential runtime problems - see https://boi.st/lkpy-perf\n"
          ]
        },
        {
          "name": "stdout",
          "output_type": "stream",
          "text": [
            "Set up User-User\n"
          ]
        }
      ]
    },
    {
      "cell_type": "code",
      "metadata": {
        "colab": {
          "base_uri": "https://localhost:8080/",
          "height": 407
        },
        "id": "nw2ZF8LzmdJJ",
        "outputId": "a445cb60-7606-4e01-9dff-b2e80da1c6ad"
      },
      "source": [
        "devansh_recs = algo.recommend(-1, num_recs, ratings=pd.Series(devansh_rating_dict))  \n",
        "\n",
        "\n",
        "joined_data = devansh_recs.join(data.movies['genres'], on='item')      \n",
        "joined_data = joined_data.join(data.movies['title'], on='item')\n",
        "joined_data = joined_data[joined_data.columns[2:]]\n",
        "print(\"\\n\\nRECOMMENDATIONS FOR DEVANSH:\")\n",
        "joined_data"
      ],
      "execution_count": null,
      "outputs": [
        {
          "name": "stdout",
          "output_type": "stream",
          "text": [
            "\n",
            "\n",
            "RECOMMENDATIONS FOR DEVANSH:\n"
          ]
        },
        {
          "data": {
            "text/html": [
              "<div>\n",
              "<style scoped>\n",
              "    .dataframe tbody tr th:only-of-type {\n",
              "        vertical-align: middle;\n",
              "    }\n",
              "\n",
              "    .dataframe tbody tr th {\n",
              "        vertical-align: top;\n",
              "    }\n",
              "\n",
              "    .dataframe thead th {\n",
              "        text-align: right;\n",
              "    }\n",
              "</style>\n",
              "<table border=\"1\" class=\"dataframe\">\n",
              "  <thead>\n",
              "    <tr style=\"text-align: right;\">\n",
              "      <th></th>\n",
              "      <th>genres</th>\n",
              "      <th>title</th>\n",
              "    </tr>\n",
              "  </thead>\n",
              "  <tbody>\n",
              "    <tr>\n",
              "      <th>0</th>\n",
              "      <td>Comedy|Drama</td>\n",
              "      <td>Last Detail, The (1973)</td>\n",
              "    </tr>\n",
              "    <tr>\n",
              "      <th>1</th>\n",
              "      <td>Comedy</td>\n",
              "      <td>Love and Death (1975)</td>\n",
              "    </tr>\n",
              "    <tr>\n",
              "      <th>2</th>\n",
              "      <td>Drama</td>\n",
              "      <td>Before Night Falls (2000)</td>\n",
              "    </tr>\n",
              "    <tr>\n",
              "      <th>3</th>\n",
              "      <td>Drama</td>\n",
              "      <td>Magdalene Sisters, The (2002)</td>\n",
              "    </tr>\n",
              "    <tr>\n",
              "      <th>4</th>\n",
              "      <td>Drama|Horror|Mystery|Sci-Fi|Thriller</td>\n",
              "      <td>Black Mirror: White Christmas (2014)</td>\n",
              "    </tr>\n",
              "    <tr>\n",
              "      <th>5</th>\n",
              "      <td>Action|Animation|Drama|Fantasy|Sci-Fi</td>\n",
              "      <td>Neon Genesis Evangelion: The End of Evangelion...</td>\n",
              "    </tr>\n",
              "    <tr>\n",
              "      <th>6</th>\n",
              "      <td>Action|Adventure|Thriller</td>\n",
              "      <td>Raiders of the Lost Ark: The Adaptation (1989)</td>\n",
              "    </tr>\n",
              "    <tr>\n",
              "      <th>7</th>\n",
              "      <td>Comedy|Drama|Romance</td>\n",
              "      <td>Submarine (2010)</td>\n",
              "    </tr>\n",
              "    <tr>\n",
              "      <th>8</th>\n",
              "      <td>Adventure|Drama</td>\n",
              "      <td>Nebraska (2013)</td>\n",
              "    </tr>\n",
              "    <tr>\n",
              "      <th>9</th>\n",
              "      <td>Documentary</td>\n",
              "      <td>Endless Summer, The (1966)</td>\n",
              "    </tr>\n",
              "  </tbody>\n",
              "</table>\n",
              "</div>"
            ],
            "text/plain": [
              "                                  genres                                              title\n",
              "0                           Comedy|Drama                            Last Detail, The (1973)\n",
              "1                                 Comedy                              Love and Death (1975)\n",
              "2                                  Drama                          Before Night Falls (2000)\n",
              "3                                  Drama                      Magdalene Sisters, The (2002)\n",
              "4   Drama|Horror|Mystery|Sci-Fi|Thriller               Black Mirror: White Christmas (2014)\n",
              "5  Action|Animation|Drama|Fantasy|Sci-Fi  Neon Genesis Evangelion: The End of Evangelion...\n",
              "6              Action|Adventure|Thriller     Raiders of the Lost Ark: The Adaptation (1989)\n",
              "7                   Comedy|Drama|Romance                                   Submarine (2010)\n",
              "8                        Adventure|Drama                                    Nebraska (2013)\n",
              "9                            Documentary                         Endless Summer, The (1966)"
            ]
          },
          "execution_count": 10,
          "metadata": {},
          "output_type": "execute_result"
        }
      ]
    },
    {
      "cell_type": "code",
      "metadata": {
        "colab": {
          "base_uri": "https://localhost:8080/"
        },
        "id": "BAF-qhhuosxP",
        "outputId": "2dd04a3d-8036-4e21-d32a-4f824db0ab1a"
      },
      "source": [
        "joined_data\n",
        "check3_recs = algo.recommend(-1, num_recs, ratings=pd.Series(check3_rating_dict))  \n",
        "joined_data = check3_recs.join(data.movies['genres'], on='item')      \n",
        "joined_data = joined_data.join(data.movies['title'], on='item')\n",
        "joined_data = joined_data[joined_data.columns[2:]]\n",
        "joined_data.head(10)\n",
        "\n",
        "if len(check3_rating_dict)<10:\n",
        "  print(\"\\n\\nRECOMMENDATIONS FOR check3:\")\n",
        "  not_enough_data.head(rows_to_show)\n",
        "else:\n",
        "  print(\"\\n\\nRECOMMENDATIONS FOR check3:\")\n",
        "  joined_data.head(rows_to_show)"
      ],
      "execution_count": null,
      "outputs": [
        {
          "name": "stdout",
          "output_type": "stream",
          "text": [
            "\n",
            "\n",
            "RECOMMENDATIONS FOR check3:\n"
          ]
        }
      ]
    },
    {
      "cell_type": "code",
      "metadata": {
        "colab": {
          "base_uri": "https://localhost:8080/",
          "height": 374
        },
        "id": "rWLPtKp1mmTV",
        "outputId": "4479d18c-124a-4dd7-d02a-83dfdc4c40e9"
      },
      "source": [
        "dhruv_recs = algo.recommend(-1, num_recs, ratings=pd.Series(dhruv_rating_dict))  #Here, -1 tells it that it's not an existing user in the set, that we're giving new ratings, while 10 is how many recommendations it should generate\n",
        "\n",
        "joined_data = dhruv_recs.join(data.movies['genres'], on='item')      \n",
        "joined_data = joined_data.join(data.movies['title'], on='item')\n",
        "joined_data = joined_data[joined_data.columns[2:]]\n",
        "print(\"RECOMMENDATIONS FOR DHRUV:\")\n",
        "joined_data"
      ],
      "execution_count": null,
      "outputs": [
        {
          "name": "stdout",
          "output_type": "stream",
          "text": [
            "RECOMMENDATIONS FOR DHRUV:\n"
          ]
        },
        {
          "data": {
            "text/html": [
              "<div>\n",
              "<style scoped>\n",
              "    .dataframe tbody tr th:only-of-type {\n",
              "        vertical-align: middle;\n",
              "    }\n",
              "\n",
              "    .dataframe tbody tr th {\n",
              "        vertical-align: top;\n",
              "    }\n",
              "\n",
              "    .dataframe thead th {\n",
              "        text-align: right;\n",
              "    }\n",
              "</style>\n",
              "<table border=\"1\" class=\"dataframe\">\n",
              "  <thead>\n",
              "    <tr style=\"text-align: right;\">\n",
              "      <th></th>\n",
              "      <th>genres</th>\n",
              "      <th>title</th>\n",
              "    </tr>\n",
              "  </thead>\n",
              "  <tbody>\n",
              "    <tr>\n",
              "      <th>0</th>\n",
              "      <td>Comedy</td>\n",
              "      <td>The Night Before (2015)</td>\n",
              "    </tr>\n",
              "    <tr>\n",
              "      <th>1</th>\n",
              "      <td>Adventure|Drama|Sci-Fi</td>\n",
              "      <td>Day of the Doctor, The (2013)</td>\n",
              "    </tr>\n",
              "    <tr>\n",
              "      <th>2</th>\n",
              "      <td>Drama|Fantasy|Romance</td>\n",
              "      <td>Wristcutters: A Love Story (2006)</td>\n",
              "    </tr>\n",
              "    <tr>\n",
              "      <th>3</th>\n",
              "      <td>Comedy|Musical</td>\n",
              "      <td>Holiday Inn (1942)</td>\n",
              "    </tr>\n",
              "    <tr>\n",
              "      <th>4</th>\n",
              "      <td>Comedy</td>\n",
              "      <td>Outside Providence (1999)</td>\n",
              "    </tr>\n",
              "    <tr>\n",
              "      <th>5</th>\n",
              "      <td>Comedy|Romance</td>\n",
              "      <td>Adam's Rib (1949)</td>\n",
              "    </tr>\n",
              "    <tr>\n",
              "      <th>6</th>\n",
              "      <td>Drama</td>\n",
              "      <td>Reign Over Me (2007)</td>\n",
              "    </tr>\n",
              "    <tr>\n",
              "      <th>7</th>\n",
              "      <td>Drama</td>\n",
              "      <td>Guess Who's Coming to Dinner (1967)</td>\n",
              "    </tr>\n",
              "    <tr>\n",
              "      <th>8</th>\n",
              "      <td>Drama</td>\n",
              "      <td>Half Nelson (2006)</td>\n",
              "    </tr>\n",
              "    <tr>\n",
              "      <th>9</th>\n",
              "      <td>Comedy</td>\n",
              "      <td>Fired Up (2009)</td>\n",
              "    </tr>\n",
              "  </tbody>\n",
              "</table>\n",
              "</div>"
            ],
            "text/plain": [
              "                   genres                                title\n",
              "0                  Comedy              The Night Before (2015)\n",
              "1  Adventure|Drama|Sci-Fi        Day of the Doctor, The (2013)\n",
              "2   Drama|Fantasy|Romance    Wristcutters: A Love Story (2006)\n",
              "3          Comedy|Musical                   Holiday Inn (1942)\n",
              "4                  Comedy            Outside Providence (1999)\n",
              "5          Comedy|Romance                    Adam's Rib (1949)\n",
              "6                   Drama                 Reign Over Me (2007)\n",
              "7                   Drama  Guess Who's Coming to Dinner (1967)\n",
              "8                   Drama                   Half Nelson (2006)\n",
              "9                  Comedy                      Fired Up (2009)"
            ]
          },
          "execution_count": 10,
          "metadata": {},
          "output_type": "execute_result"
        }
      ]
    }
  ]
}